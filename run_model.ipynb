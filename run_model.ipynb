{
 "cells": [
  {
   "cell_type": "code",
   "execution_count": null,
   "id": "981c854c",
   "metadata": {},
   "outputs": [],
   "source": [
    "!pip install tensorflow==2.4.3\n",
    "!rm -rf ./*\n",
    "!git clone https://github.com/gunateja5465/MajorProject.git\n",
    "!mv MajorProject/* ./"
   ]
  },
  {
   "cell_type": "code",
   "execution_count": null,
   "id": "a3e7277a",
   "metadata": {},
   "outputs": [],
   "source": [
    "import os\n",
    "import glob\n",
    "import numpy as np\n",
    "from PIL import Image, ImageOps\n",
    "import tensorflow as tf\n",
    "import matplotlib.pyplot as plt\n",
    "\n",
    "from datasets.div2k.parameters import Div2kParameters \n",
    "from models.srgan_generator import build_srresnet\n",
    "from models.pretrained import pretrained_models\n",
    "from utils.prediction import get_sr_image\n",
    "from utils.config import config"
   ]
  },
  {
   "cell_type": "code",
   "execution_count": null,
   "id": "2fe72874",
   "metadata": {},
   "outputs": [],
   "source": [
    "dataset_key = \"bicubic_x4\"\n",
    "\n",
    "data_path = config.get(\"data_path\", \"\") \n",
    "\n",
    "div2k_folder = os.path.abspath(os.path.join(data_path, \"div2k\"))\n",
    "\n",
    "dataset_parameters = Div2kParameters(dataset_key, save_data_directory=div2k_folder)"
   ]
  },
  {
   "cell_type": "code",
   "execution_count": null,
   "id": "5a9b6c5b",
   "metadata": {},
   "outputs": [],
   "source": [
    "def load_image(path):\n",
    "    img = Image.open(path)\n",
    "    \n",
    "    was_grayscale = len(img.getbands()) == 1\n",
    "    \n",
    "    if was_grayscale or len(img.getbands()) == 4:\n",
    "        img = img.convert('RGB')\n",
    "    \n",
    "    return was_grayscale, np.array(img)\n"
   ]
  },
  {
   "cell_type": "code",
   "execution_count": null,
   "id": "53ddafc3",
   "metadata": {},
   "outputs": [],
   "source": [
    "model_name = \"srgan\"\n",
    "model_key = f\"{model_name}_{dataset_key}\""
   ]
  },
  {
   "cell_type": "code",
   "execution_count": null,
   "id": "d6dd2475",
   "metadata": {},
   "outputs": [],
   "source": [
    "weights_directory = os.path.abspath(f\"weights/{model_key}\")\n",
    "\n",
    "file_path = os.path.join(weights_directory, \"generator.h5\")\n",
    "\n",
    "if not os.path.exists(file_path):\n",
    "    os.makedirs(weights_directory, exist_ok=True)\n",
    "    \n",
    "    print(\"Couldn't find file: \", file_path, \", attempting to download a pretrained model\")\n",
    "    \n",
    "    if model_key not in pretrained_models:\n",
    "        print(f\"Couldn't find pretrained model with key: {model_key}, available pretrained models: {pretrained_models.key()}\")\n",
    "    else:\n",
    "        download_url = pretrained_models[model_key]\n",
    "        file = file_path.split(\"/\")[-1]\n",
    "        tf.keras.utils.get_file(file, download_url, cache_subdir=weights_directory)"
   ]
  },
  {
   "cell_type": "code",
   "execution_count": null,
   "id": "89375f5a",
   "metadata": {},
   "outputs": [],
   "source": [
    "model = build_srresnet(scale=dataset_parameters.scale)\n",
    "\n",
    "os.makedirs(weights_directory, exist_ok=True)\n",
    "weights_file = f'{weights_directory}/generator.h5'\n",
    "\n",
    "model.load_weights(weights_file)"
   ]
  },
  {
   "cell_type": "code",
   "execution_count": null,
   "id": "dfdf8743",
   "metadata": {},
   "outputs": [],
   "source": [
    "results_path = f\"output/{model_key}/\"\n",
    "os.makedirs(results_path, exist_ok=True)"
   ]
  },
  {
   "cell_type": "code",
   "execution_count": null,
   "id": "fd8c0c42",
   "metadata": {
    "scrolled": false
   },
   "outputs": [],
   "source": [
    "image_paths = glob.glob(\"input/*\")\n",
    "\n",
    "for image_path in image_paths:\n",
    "    print(image_path)\n",
    "    was_grayscale, lr = load_image(image_path)\n",
    "    \n",
    "    sr = get_sr_image(model, lr)\n",
    "        \n",
    "    if was_grayscale:\n",
    "        sr = ImageOps.grayscale(sr)\n",
    "    \n",
    "    image_name = image_path.split(\"/\")[-1]\n",
    "    sr.save(f\"{results_path}{image_name}\" )"
   ]
  },
  {
   "cell_type": "code",
   "execution_count": null,
   "id": "12f1b996",
   "metadata": {},
   "outputs": [],
   "source": [
    "# zip files for download from colab\n",
    "\n",
    "!zip -r images.zip output"
   ]
  },
  {
   "cell_type": "code",
   "execution_count": null,
   "id": "bc24c18e",
   "metadata": {},
   "outputs": [],
   "source": [
    "from math import log10, sqrt \n",
    "\n",
    "import cv2 \n",
    "from skimage.metrics import structural_similarity as ssim1\n",
    "# from skimage.metrics import mean_squared_error as mse\n",
    "\n",
    "  \n",
    "\n",
    "def PSNR(original, compressed): \n",
    "\n",
    "    mse = np.mean((original - compressed) ** 2) \n",
    "\n",
    "    if(mse == 0):  # MSE is zero means no noise is present in the signal . \n",
    "\n",
    "                  # Therefore PSNR have no importance. \n",
    "\n",
    "        return 100\n",
    "\n",
    "    max_pixel = 255.0\n",
    "\n",
    "    psnr = 20 * log10(max_pixel / sqrt(mse)) \n",
    "\n",
    "    return psnr\n",
    "def mse(original, compressed): \n",
    "    m = np.mean((original - compressed) ** 2)*0.01\n",
    "    return m\n",
    "\n",
    "def ssim(img1, img2):\n",
    "  return ssim1(img1,img2,data_range=255,multichannel=True)\n",
    "\n",
    "cols = 3\n",
    "if model_name == \"srgan\":\n",
    "  cols = 3\n",
    "  print(\"PSNR-HR  PSNR-SRGAN  MSE-SRGAN    SSIM-SRGAN\")\n",
    "else:\n",
    "  cols = 4\n",
    "  print(\"PSNR-HR PSNR-SRGAN  PSNR-SRRESNET  MSE-SRGAN  MSE-SRRESNET   SSIM-SRGAN  SSIM-SRRESNET\")\n",
    "\n",
    "num_img=len(os.listdir(\"input\"))\n",
    "for i in range(num_img):\n",
    "  fig, axes = plt.subplots(nrows=1, ncols=cols, figsize=(15,15))\n",
    "  original = cv2.imread(f\"input/{i}.png\")\n",
    " \n",
    "  resized = cv2.resize(original, (384, 384))\n",
    "  axes[0].imshow(resized)\n",
    "  hr_normal = cv2.imread(f\"HR/{i}.png\", 1)\n",
    "  axes[2].imshow(hr_normal)\n",
    "  hr_gan = cv2.imread(f\"output/srgan_bicubic_x4/{i}.png\", 1)\n",
    "  axes[1].imshow(hr_gan)\n",
    "\n",
    "  if model_name == \"srgan\":\n",
    "    print(f\"{PSNR(hr_normal,hr_normal):.3f}    {PSNR(hr_normal, hr_gan):.3f}       {mse(hr_normal,hr_gan):.3f}        {ssim(hr_normal,hr_gan):.3f} \")\n",
    "  else:\n",
    "    hr_resnet = cv2.imread(f\"output/srresnet_bicubic_x4/{i}.png\", 1)\n",
    "    axes[3].imshow(hr_resnet)\n",
    "    print(f\"{PSNR(hr_normal,hr_normal):.3f}    {PSNR(hr_normal, hr_gan):.3f}        {PSNR(hr_normal, hr_resnet):.3f}     {mse(hr_normal,hr_gan):.3f}       {mse(hr_normal,hr_resnet):.3f}            {ssim(hr_normal,hr_gan):.3f}         {ssim(hr_normal,hr_resnet):.3f}\")\n",
    "\n"
   ]
  }
 ],
 "metadata": {
  "kernelspec": {
   "display_name": "Python 3",
   "language": "python",
   "name": "python3"
  },
  "language_info": {
   "codemirror_mode": {
    "name": "ipython",
    "version": 3
   },
   "file_extension": ".py",
   "mimetype": "text/x-python",
   "name": "python",
   "nbconvert_exporter": "python",
   "pygments_lexer": "ipython3",
   "version": "3.6.8"
  }
 },
 "nbformat": 4,
 "nbformat_minor": 5
}
